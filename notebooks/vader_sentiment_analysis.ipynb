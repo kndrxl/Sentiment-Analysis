{
 "cells": [
  {
   "cell_type": "code",
   "execution_count": 12,
   "metadata": {},
   "outputs": [],
   "source": [
    "import numpy as np\n",
    "import pandas as pd\n",
    "\n",
    "from tqdm import tqdm \n",
    "from vaderSentiment.vaderSentiment import SentimentIntensityAnalyzer\n",
    "from sklearn.metrics import (\n",
    "    classification_report, \n",
    "    confusion_matrix, \n",
    "    accuracy_score\n",
    ")\n",
    "\n",
    "analyzer = SentimentIntensityAnalyzer()\n",
    "labels = ['negative', 'neutral', 'positive']\n",
    "\n",
    "\n",
    "def preprocess(text):\n",
    "    new_text = []\n",
    " \n",
    "    for t in text.split(\" \"):\n",
    "        # t = '@user' if t.startswith('@') and len(t) > 1 else t\n",
    "        # t = 'http' if t.startswith('http') else t\n",
    "        t = '' if t.startswith(('@', 'http')) and len(t) > 1 else t\n",
    "        new_text.append(t)\n",
    "    return \" \".join(new_text)\n",
    "\n",
    "\n",
    "def infer(text):\n",
    "    vs = analyzer.polarity_scores(text)\n",
    "    # text = preprocess(text)\n",
    "    compound_score = vs['compound']\n",
    "\n",
    "    if compound_score >= 0.05:\n",
    "        label = 'positive'\n",
    "    \n",
    "    if (\n",
    "        compound_score > -0.05 and\n",
    "        compound_score < 0.05\n",
    "    ):\n",
    "        label = 'neutral'\n",
    "\n",
    "    if compound_score <= -0.05:\n",
    "        label = 'negative'\n",
    "\n",
    "    # scores = [vs['neg'], vs['neu'], vs['pos']]\n",
    "    # ranking = np.argsort(scores)\n",
    "    # ranking = ranking[::-1]\n",
    "    # output = ranking[0]\n",
    "    # label = labels[output]\n",
    "    return text, label"
   ]
  },
  {
   "cell_type": "code",
   "execution_count": 13,
   "metadata": {},
   "outputs": [],
   "source": [
    "def evaluate(predictions, true_labels):\n",
    "    cls_report = classification_report(\n",
    "        true_labels, \n",
    "        predictions\n",
    "    )\n",
    "    cnf_matrix = confusion_matrix(\n",
    "        true_labels, \n",
    "        predictions\n",
    "    )\n",
    "    accuracy = accuracy_score(true_labels, predictions)\n",
    "\n",
    "    print(\"Classification Report:\\n\", cls_report)\n",
    "    print(\"Confusion Matrix:\\n\", cnf_matrix)\n",
    "    print(\"\\n\\nAccuracy: \", accuracy)\n",
    "\n",
    "\n",
    "def test_batch(csv_path):\n",
    "    df = pd.read_csv(csv_path)\n",
    "    data = df['text'].tolist()\n",
    "    true_labels = df['expected_sentiment'].tolist()\n",
    "    predictions = []\n",
    "\n",
    "    for i in tqdm(range(len(data)), desc=\"Processing\"):\n",
    "        text = data[i]\n",
    "        true_label = true_labels[i]\n",
    "        processed_text, predicted_label = infer(text)\n",
    "        predictions.append(predicted_label)\n",
    "\n",
    "    evaluate(predictions, true_labels)"
   ]
  },
  {
   "cell_type": "code",
   "execution_count": 14,
   "metadata": {},
   "outputs": [
    {
     "name": "stderr",
     "output_type": "stream",
     "text": [
      "Processing: 100%|██████████| 498/498 [00:00<00:00, 15655.43it/s]"
     ]
    },
    {
     "name": "stdout",
     "output_type": "stream",
     "text": [
      "Classification Report:\n",
      "               precision    recall  f1-score   support\n",
      "\n",
      "    negative       0.84      0.64      0.73       177\n",
      "     neutral       0.67      0.70      0.68       139\n",
      "    positive       0.68      0.81      0.74       182\n",
      "\n",
      "    accuracy                           0.72       498\n",
      "   macro avg       0.73      0.72      0.72       498\n",
      "weighted avg       0.73      0.72      0.72       498\n",
      "\n",
      "Confusion Matrix:\n",
      " [[114  25  38]\n",
      " [ 10  97  32]\n",
      " [ 11  23 148]]\n",
      "\n",
      "\n",
      "Accuracy:  0.7208835341365462\n"
     ]
    },
    {
     "name": "stderr",
     "output_type": "stream",
     "text": [
      "\n"
     ]
    }
   ],
   "source": [
    "csv_path = '../data/sentiment_test_cases.csv'\n",
    "test_batch(csv_path)"
   ]
  },
  {
   "cell_type": "code",
   "execution_count": null,
   "metadata": {},
   "outputs": [],
   "source": []
  }
 ],
 "metadata": {
  "kernelspec": {
   "display_name": "uml_env",
   "language": "python",
   "name": "python3"
  },
  "language_info": {
   "codemirror_mode": {
    "name": "ipython",
    "version": 3
   },
   "file_extension": ".py",
   "mimetype": "text/x-python",
   "name": "python",
   "nbconvert_exporter": "python",
   "pygments_lexer": "ipython3",
   "version": "3.10.13"
  }
 },
 "nbformat": 4,
 "nbformat_minor": 2
}
