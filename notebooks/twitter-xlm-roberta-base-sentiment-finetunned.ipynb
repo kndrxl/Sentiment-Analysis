{
 "cells": [
  {
   "cell_type": "code",
   "execution_count": 1,
   "metadata": {},
   "outputs": [
    {
     "name": "stderr",
     "output_type": "stream",
     "text": [
      "/opt/homebrew/Caskroom/miniforge/base/envs/sentiment_env/lib/python3.10/site-packages/tqdm/auto.py:21: TqdmWarning: IProgress not found. Please update jupyter and ipywidgets. See https://ipywidgets.readthedocs.io/en/stable/user_install.html\n",
      "  from .autonotebook import tqdm as notebook_tqdm\n",
      "tokenizer_config.json: 100%|██████████| 618/618 [00:00<00:00, 1.18MB/s]\n",
      "sentencepiece.bpe.model: 100%|██████████| 5.07M/5.07M [00:01<00:00, 2.87MB/s]\n",
      "tokenizer.json: 100%|██████████| 9.10M/9.10M [00:02<00:00, 4.14MB/s]\n",
      "special_tokens_map.json: 100%|██████████| 150/150 [00:00<00:00, 470kB/s]\n",
      "config.json: 100%|██████████| 992/992 [00:00<00:00, 2.04MB/s]\n",
      "pytorch_model.bin:   3%|▎         | 31.5M/1.11G [00:04<02:12, 8.15MB/s]Error while downloading from https://cdn-lfs.huggingface.co/arianpasquali/twitter-xlm-roberta-base-sentiment-finetunned/4b9f7e2e7dd748c52a1dd3805f3fd1bb74c80fbfbb1167a6454bf02f46205b6f?response-content-disposition=attachment%3B+filename*%3DUTF-8%27%27pytorch_model.bin%3B+filename%3D%22pytorch_model.bin%22%3B&response-content-type=application%2Foctet-stream&Expires=1701263288&Policy=eyJTdGF0ZW1lbnQiOlt7IkNvbmRpdGlvbiI6eyJEYXRlTGVzc1RoYW4iOnsiQVdTOkVwb2NoVGltZSI6MTcwMTI2MzI4OH19LCJSZXNvdXJjZSI6Imh0dHBzOi8vY2RuLWxmcy5odWdnaW5nZmFjZS5jby9hcmlhbnBhc3F1YWxpL3R3aXR0ZXIteGxtLXJvYmVydGEtYmFzZS1zZW50aW1lbnQtZmluZXR1bm5lZC80YjlmN2UyZTdkZDc0OGM1MmExZGQzODA1ZjNmZDFiYjc0YzgwZmJmYmIxMTY3YTY0NTRiZjAyZjQ2MjA1YjZmP3Jlc3BvbnNlLWNvbnRlbnQtZGlzcG9zaXRpb249KiZyZXNwb25zZS1jb250ZW50LXR5cGU9KiJ9XX0_&Signature=HLVO6CaeQ66S6-THScV3TrWN%7E7uaTCWIWvfWSaxhhbthwknshsNYGiVvl10uHjMkIq6FFzPxTODLn31iA%7E4tzJbhVasGwyXPjVDBot2Z4qb6sPVV%7EJBKPF6hr4QPT%7EAhSYKcnF-Y60pJrn8m1o2e0iBzYravH4ztfi2Y1DV3c1XBVCO1HD6BfIDYV5ObNHoiRCtoNUYAJ2ET8e1-dr43xDCvb%7EJrE1986j5N741FTyYe4W3XsJwISPRpjirOcO5WwZhDQk5c2UHPDkWXDBGZyOzWgb44RTAcg5WypJNHkkNjUJAaC2hlwxysh%7EJIgR0EnbASutkdwQRmiJKZq-B1CA__&Key-Pair-Id=KVTP0A1DKRTAX: HTTPSConnectionPool(host='cdn-lfs.huggingface.co', port=443): Read timed out.\n",
      "Trying to resume download...\n",
      "pytorch_model.bin: 100%|██████████| 1.11G/1.11G [01:41<00:00, 10.7MB/s]\n",
      "pytorch_model.bin:   3%|▎         | 31.5M/1.11G [01:58<1:08:05, 265kB/s]\n"
     ]
    }
   ],
   "source": [
    "import numpy as np\n",
    "import pandas as pd\n",
    "\n",
    "from tqdm import tqdm \n",
    "from transformers import AutoModelForSequenceClassification\n",
    "from transformers import AutoTokenizer\n",
    "from scipy.special import softmax\n",
    "\n",
    "from sklearn.metrics import (\n",
    "    classification_report, \n",
    "    confusion_matrix, \n",
    "    accuracy_score\n",
    ")\n",
    "\n",
    "MODEL_NAME = \"citizenlab/twitter-xlm-roberta-base-sentiment-finetunned\"\n",
    "MODEL_PATH = f\"../models/{MODEL_NAME}\"\n",
    "tokenizer = AutoTokenizer.from_pretrained(MODEL_NAME)\n",
    "# model = AutoModelForSequenceClassification.from_pretrained(MODEL_NAME)\n",
    "# model.save_pretrained(MODEL_PATH)\n",
    "\n",
    "model = AutoModelForSequenceClassification.from_pretrained(\n",
    "    MODEL_PATH,\n",
    "    local_files_only=True\n",
    ")"
   ]
  },
  {
   "cell_type": "code",
   "execution_count": 2,
   "metadata": {},
   "outputs": [],
   "source": [
    "def preprocess(text):\n",
    "    new_text = []\n",
    " \n",
    "    for t in text.split(\" \"):\n",
    "        t = '@user' if t.startswith('@') and len(t) > 1 else t\n",
    "        t = 'http' if t.startswith('http') else t\n",
    "        # t = '' if t.startswith(('@', 'http')) and len(t) > 1 else t\n",
    "        new_text.append(t)\n",
    "    return \" \".join(new_text)\n",
    "\n",
    "def infer(text):\n",
    "    labels = ['negative', 'neutral', 'positive']\n",
    "    text = preprocess(text)\n",
    "    encoded_input = tokenizer(text, return_tensors='pt')\n",
    "    output = model(**encoded_input)\n",
    "    scores = output[0][0].detach().numpy()\n",
    "    scores = softmax(scores)\n",
    "    ranking = np.argsort(scores)\n",
    "    ranking = ranking[::-1]\n",
    "    output = ranking[0]\n",
    "    label = labels[output]\n",
    "    return text, label"
   ]
  },
  {
   "cell_type": "code",
   "execution_count": 3,
   "metadata": {},
   "outputs": [],
   "source": [
    "def evaluate(predictions, true_labels):\n",
    "    cls_report = classification_report(\n",
    "        true_labels, \n",
    "        predictions\n",
    "    )\n",
    "    cnf_matrix = confusion_matrix(\n",
    "        true_labels, \n",
    "        predictions\n",
    "    )\n",
    "    accuracy = accuracy_score(true_labels, predictions)\n",
    "\n",
    "    print(\"Classification Report:\\n\", cls_report)\n",
    "    print(\"Confusion Matrix:\\n\", cnf_matrix)\n",
    "    print(\"Accuracy: \", accuracy)\n",
    "\n",
    "\n",
    "def test_batch(csv_path):\n",
    "    df = pd.read_csv(csv_path)\n",
    "    data = df['text'].tolist()\n",
    "    true_labels = df['expected_sentiment'].tolist()\n",
    "    predictions = []\n",
    "\n",
    "    for i in tqdm(range(len(data)), desc=\"Processing\"):\n",
    "        text = data[i]\n",
    "        true_label = true_labels[i]\n",
    "        processed_text, predicted_label = infer(text)\n",
    "        predictions.append(predicted_label)\n",
    "\n",
    "    evaluate(predictions, true_labels)"
   ]
  },
  {
   "cell_type": "code",
   "execution_count": 4,
   "metadata": {},
   "outputs": [
    {
     "name": "stderr",
     "output_type": "stream",
     "text": [
      "Processing:   0%|          | 0/498 [00:00<?, ?it/s]"
     ]
    },
    {
     "name": "stderr",
     "output_type": "stream",
     "text": [
      "Processing: 100%|██████████| 498/498 [00:19<00:00, 25.62it/s]"
     ]
    },
    {
     "name": "stdout",
     "output_type": "stream",
     "text": [
      "Classification Report:\n",
      "               precision    recall  f1-score   support\n",
      "\n",
      "    negative       0.89      0.64      0.75       177\n",
      "     neutral       0.55      0.94      0.70       139\n",
      "    positive       0.89      0.65      0.76       182\n",
      "\n",
      "    accuracy                           0.73       498\n",
      "   macro avg       0.78      0.75      0.73       498\n",
      "weighted avg       0.80      0.73      0.74       498\n",
      "\n",
      "Confusion Matrix:\n",
      " [[114  51  12]\n",
      " [  6 131   2]\n",
      " [  8  55 119]]\n",
      "Accuracy:  0.7309236947791165\n"
     ]
    },
    {
     "name": "stderr",
     "output_type": "stream",
     "text": [
      "\n"
     ]
    }
   ],
   "source": [
    "csv_path = '../data/sentiment_test_cases.csv'\n",
    "test_batch(csv_path)"
   ]
  },
  {
   "cell_type": "code",
   "execution_count": null,
   "metadata": {},
   "outputs": [],
   "source": []
  }
 ],
 "metadata": {
  "kernelspec": {
   "display_name": "uml_env",
   "language": "python",
   "name": "python3"
  },
  "language_info": {
   "codemirror_mode": {
    "name": "ipython",
    "version": 3
   },
   "file_extension": ".py",
   "mimetype": "text/x-python",
   "name": "python",
   "nbconvert_exporter": "python",
   "pygments_lexer": "ipython3",
   "version": "3.10.13"
  }
 },
 "nbformat": 4,
 "nbformat_minor": 2
}
